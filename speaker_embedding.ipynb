{
 "cells": [
  {
   "cell_type": "code",
   "execution_count": 2,
   "metadata": {},
   "outputs": [],
   "source": [
    "import torch\n",
    "import torchaudio\n",
    "import soundfile\n",
    "from speechbrain.pretrained import EncoderClassifier\n",
    "classifier = EncoderClassifier.from_hparams(source=\"speechbrain/spkrec-ecapa-voxceleb\")\n",
    "wav, sr = soundfile.read('/home/sterlind/projects/tima3/scotus/datasets/scotus_flacs/1995.94-1809-t01.532.1-70-0.flac')"
   ]
  },
  {
   "cell_type": "code",
   "execution_count": 8,
   "metadata": {},
   "outputs": [],
   "source": [
    "embeddings = classifier.encode_batch(torch.tensor(wav[None]), normalize=True)"
   ]
  },
  {
   "cell_type": "code",
   "execution_count": 15,
   "metadata": {},
   "outputs": [
    {
     "data": {
      "text/plain": [
       "torch.Size([1, 229760])"
      ]
     },
     "execution_count": 15,
     "metadata": {},
     "output_type": "execute_result"
    }
   ],
   "source": [
    "torch.tensor(wav[None]).shape"
   ]
  },
  {
   "cell_type": "code",
   "execution_count": 16,
   "metadata": {},
   "outputs": [
    {
     "data": {
      "text/plain": [
       "{28: {'f0_mean': 142.01596, 'f0_std': 20.527803},\n",
       " 18: {'f0_mean': 90.63272, 'f0_std': 10.379663},\n",
       " 105: {'f0_mean': 111.73728, 'f0_std': 25.97323},\n",
       " 4: {'f0_mean': 175.6535, 'f0_std': 19.362776},\n",
       " 23: {'f0_mean': 204.15605, 'f0_std': 33.581234},\n",
       " 91: {'f0_mean': 183.69514, 'f0_std': 31.647238},\n",
       " 64: {'f0_mean': 158.64711, 'f0_std': 42.7693},\n",
       " 30: {'f0_mean': 206.90169, 'f0_std': 27.668127},\n",
       " 26: {'f0_mean': 224.73647, 'f0_std': 21.059406},\n",
       " 101: {'f0_mean': 215.22688, 'f0_std': 23.672758},\n",
       " 37: {'f0_mean': 195.39555, 'f0_std': 21.20886},\n",
       " 61: {'f0_mean': 191.97177, 'f0_std': 29.028347},\n",
       " 58: {'f0_mean': 118.91141, 'f0_std': 18.207596},\n",
       " 76: {'f0_mean': 247.1249, 'f0_std': 45.843487},\n",
       " 25: {'f0_mean': 118.378006, 'f0_std': 11.569413},\n",
       " 65: {'f0_mean': 186.7118, 'f0_std': 21.025736},\n",
       " 78: {'f0_mean': 234.15277, 'f0_std': 44.399582},\n",
       " 96: {'f0_mean': 196.10616, 'f0_std': 36.22349},\n",
       " 89: {'f0_mean': 202.41962, 'f0_std': 30.115335},\n",
       " 60: {'f0_mean': 99.74894, 'f0_std': 12.979635},\n",
       " 24: {'f0_mean': 124.979385, 'f0_std': 14.984089},\n",
       " 73: {'f0_mean': 112.17473, 'f0_std': 25.032413},\n",
       " 95: {'f0_mean': 205.98798, 'f0_std': 29.146713},\n",
       " 103: {'f0_mean': 190.87473, 'f0_std': 34.94656},\n",
       " 102: {'f0_mean': 102.16112, 'f0_std': 16.992907},\n",
       " 75: {'f0_mean': 183.4272, 'f0_std': 28.381702},\n",
       " 94: {'f0_mean': 204.67604, 'f0_std': 35.03904},\n",
       " 48: {'f0_mean': 105.20048, 'f0_std': 12.5393},\n",
       " 99: {'f0_mean': 98.03044, 'f0_std': 11.733012},\n",
       " 19: {'f0_mean': 102.068756, 'f0_std': 10.432431},\n",
       " 54: {'f0_mean': 91.86522, 'f0_std': 9.608574},\n",
       " 93: {'f0_mean': 209.48616, 'f0_std': 29.550097},\n",
       " 3: {'f0_mean': 198.80132, 'f0_std': 26.134487},\n",
       " 81: {'f0_mean': 170.64313, 'f0_std': 33.766964},\n",
       " 15: {'f0_mean': 114.16035, 'f0_std': 11.184986},\n",
       " 107: {'f0_mean': 120.11797, 'f0_std': 27.190462},\n",
       " 85: {'f0_mean': 247.10292, 'f0_std': 35.211166},\n",
       " 11: {'f0_mean': 80.665985, 'f0_std': 9.016722},\n",
       " 87: {'f0_mean': 221.43037, 'f0_std': 50.777462},\n",
       " 1: {'f0_mean': 113.084114, 'f0_std': 16.134417},\n",
       " 92: {'f0_mean': 95.62196, 'f0_std': 15.18651},\n",
       " 55: {'f0_mean': 188.97371, 'f0_std': 26.494371},\n",
       " 97: {'f0_mean': 187.80688, 'f0_std': 26.683418},\n",
       " 6: {'f0_mean': 167.10718, 'f0_std': 36.135895},\n",
       " 20: {'f0_mean': 136.21284, 'f0_std': 15.545153},\n",
       " 32: {'f0_mean': 117.62436, 'f0_std': 12.777584},\n",
       " 98: {'f0_mean': 159.7425, 'f0_std': 21.452654},\n",
       " 70: {'f0_mean': 170.45947, 'f0_std': 16.153484},\n",
       " 43: {'f0_mean': 102.431526, 'f0_std': 9.374557},\n",
       " 90: {'f0_mean': 187.0996, 'f0_std': 24.949797},\n",
       " 35: {'f0_mean': 164.06119, 'f0_std': 24.94662},\n",
       " 31: {'f0_mean': 115.14643, 'f0_std': 12.133472},\n",
       " 41: {'f0_mean': 207.00435, 'f0_std': 27.756613},\n",
       " 84: {'f0_mean': 96.30279, 'f0_std': 11.4609375},\n",
       " 8: {'f0_mean': 206.34529, 'f0_std': 24.525011},\n",
       " 16: {'f0_mean': 120.41867, 'f0_std': 14.1385765},\n",
       " 53: {'f0_mean': 180.34717, 'f0_std': 21.237555},\n",
       " 9: {'f0_mean': 180.15674, 'f0_std': 21.822798},\n",
       " 100: {'f0_mean': 90.239204, 'f0_std': 8.275769},\n",
       " 29: {'f0_mean': 90.13653, 'f0_std': 11.54099},\n",
       " 49: {'f0_mean': 223.90044, 'f0_std': 35.170094},\n",
       " 80: {'f0_mean': 209.37128, 'f0_std': 24.888355},\n",
       " 38: {'f0_mean': 194.46884, 'f0_std': 29.893543},\n",
       " 77: {'f0_mean': 183.16281, 'f0_std': 29.748627},\n",
       " 34: {'f0_mean': 244.15158, 'f0_std': 38.509052},\n",
       " 40: {'f0_mean': 184.55615, 'f0_std': 25.25995},\n",
       " 42: {'f0_mean': 188.84114, 'f0_std': 22.971489},\n",
       " 66: {'f0_mean': 192.48842, 'f0_std': 34.56838},\n",
       " 71: {'f0_mean': 121.20346, 'f0_std': 13.1531515},\n",
       " 2: {'f0_mean': 116.82809, 'f0_std': 11.503424},\n",
       " 72: {'f0_mean': 202.69632, 'f0_std': 48.272095},\n",
       " 47: {'f0_mean': 101.486, 'f0_std': 15.458724},\n",
       " 86: {'f0_mean': 197.3281, 'f0_std': 29.56566},\n",
       " 0: {'f0_mean': 178.23943, 'f0_std': 27.481512},\n",
       " 68: {'f0_mean': 175.23996, 'f0_std': 25.373182},\n",
       " 51: {'f0_mean': 112.692986, 'f0_std': 15.542182},\n",
       " 83: {'f0_mean': 123.61301, 'f0_std': 20.597424},\n",
       " 13: {'f0_mean': 187.05582, 'f0_std': 28.30971},\n",
       " 82: {'f0_mean': 185.25816, 'f0_std': 28.113047},\n",
       " 22: {'f0_mean': 151.34647, 'f0_std': 44.243095},\n",
       " 104: {'f0_mean': 210.04108, 'f0_std': 30.090467},\n",
       " 79: {'f0_mean': 105.360245, 'f0_std': 17.619143},\n",
       " 63: {'f0_mean': 182.46936, 'f0_std': 20.679104},\n",
       " 50: {'f0_mean': 194.82413, 'f0_std': 25.43331},\n",
       " 7: {'f0_mean': 117.481964, 'f0_std': 23.939384},\n",
       " 67: {'f0_mean': 121.22537, 'f0_std': 17.707682},\n",
       " 62: {'f0_mean': 107.46231, 'f0_std': 15.0467415},\n",
       " 44: {'f0_mean': 115.87356, 'f0_std': 9.358934},\n",
       " 52: {'f0_mean': 123.75056, 'f0_std': 21.532288},\n",
       " 17: {'f0_mean': 207.2954, 'f0_std': 31.868626},\n",
       " 33: {'f0_mean': 107.98402, 'f0_std': 19.407545},\n",
       " 21: {'f0_mean': 234.56548, 'f0_std': 46.43232},\n",
       " 56: {'f0_mean': 201.43753, 'f0_std': 35.061695},\n",
       " 27: {'f0_mean': 78.89945, 'f0_std': 10.829495},\n",
       " 39: {'f0_mean': 181.02248, 'f0_std': 24.753607},\n",
       " 59: {'f0_mean': 140.05743, 'f0_std': 19.528004},\n",
       " 45: {'f0_mean': 120.30787, 'f0_std': 16.947542},\n",
       " 74: {'f0_mean': 223.06589, 'f0_std': 44.60692},\n",
       " 36: {'f0_mean': 107.290695, 'f0_std': 15.912607},\n",
       " 46: {'f0_mean': 145.58098, 'f0_std': 27.734722},\n",
       " 10: {'f0_mean': 221.32715, 'f0_std': 43.024376},\n",
       " 12: {'f0_mean': 202.83455, 'f0_std': 46.55368},\n",
       " 88: {'f0_mean': 78.72867, 'f0_std': 8.314004},\n",
       " 106: {'f0_mean': 103.502975, 'f0_std': 20.97396},\n",
       " 5: {'f0_mean': 177.77791, 'f0_std': 42.162354},\n",
       " 14: {'f0_mean': 230.66533, 'f0_std': 31.575033},\n",
       " 69: {'f0_mean': 197.27036, 'f0_std': 26.248957},\n",
       " 108: {'f0_mean': 119.16576, 'f0_std': 27.050333},\n",
       " 57: {'f0_mean': 99.04947, 'f0_std': 21.46273}}"
      ]
     },
     "execution_count": 16,
     "metadata": {},
     "output_type": "execute_result"
    }
   ],
   "source": [
    "torch.load('./datasets/VCTK/f0_stats.th')"
   ]
  },
  {
   "cell_type": "code",
   "execution_count": 10,
   "metadata": {},
   "outputs": [
    {
     "data": {
      "text/plain": [
       "torch.Size([1, 1, 192])"
      ]
     },
     "execution_count": 10,
     "metadata": {},
     "output_type": "execute_result"
    }
   ],
   "source": [
    "embeddings.shape"
   ]
  },
  {
   "cell_type": "code",
   "execution_count": 9,
   "metadata": {},
   "outputs": [
    {
     "data": {
      "text/plain": [
       "torch.Size([1, 229760])"
      ]
     },
     "execution_count": 9,
     "metadata": {},
     "output_type": "execute_result"
    }
   ],
   "source": [
    "torch.tensor(wav[None]).shape"
   ]
  },
  {
   "cell_type": "code",
   "execution_count": 12,
   "metadata": {},
   "outputs": [
    {
     "data": {
      "text/plain": [
       "device(type='cpu')"
      ]
     },
     "execution_count": 12,
     "metadata": {},
     "output_type": "execute_result"
    }
   ],
   "source": [
    "embeddings.device"
   ]
  }
 ],
 "metadata": {
  "kernelspec": {
   "display_name": "tima2",
   "language": "python",
   "name": "python3"
  },
  "language_info": {
   "codemirror_mode": {
    "name": "ipython",
    "version": 3
   },
   "file_extension": ".py",
   "mimetype": "text/x-python",
   "name": "python",
   "nbconvert_exporter": "python",
   "pygments_lexer": "ipython3",
   "version": "3.10.12"
  }
 },
 "nbformat": 4,
 "nbformat_minor": 2
}
